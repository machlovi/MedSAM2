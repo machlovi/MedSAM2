{
 "cells": [
  {
   "cell_type": "code",
   "execution_count": null,
   "id": "543928f3",
   "metadata": {},
   "outputs": [],
   "source": [
    "import pandas as pd\n",
    "from sklearn.model_selection import train_test_split"
   ]
  },
  {
   "cell_type": "markdown",
   "id": "99c558be",
   "metadata": {},
   "source": []
  },
  {
   "cell_type": "code",
   "execution_count": null,
   "id": "887e012d",
   "metadata": {},
   "outputs": [],
   "source": [
    "\n",
    "\n",
    "# Load CSV\n",
    "df = pd.read_csv(\"your_file.csv\")\n",
    "\n",
    "# We need subject-level KL grades. Let's assign each subject a representative grade.\n",
    "# One simple way: take the max KL grade per subject (could also use majority or avg).\n",
    "subject_grades = df.groupby(\"ID\")[\"V00XRKL\"].max().reset_index()\n",
    "subject_grades.columns = [\"ID\", \"Grade\"]\n",
    "\n",
    "# Now we stratify by Grade at the subject level\n",
    "train_ids, temp_ids, y_train, y_temp = train_test_split(\n",
    "    subject_grades[\"ID\"], subject_grades[\"Grade\"],\n",
    "    test_size=0.30,  # 30% for val+test\n",
    "    stratify=subject_grades[\"Grade\"],\n",
    "    random_state=42\n",
    ")\n",
    "\n",
    "# Split remaining into val and test\n",
    "val_ids, test_ids, y_val, y_test = train_test_split(\n",
    "    temp_ids, y_temp,\n",
    "    test_size=2/3,  # from 30%, keep ~20% test, 10% val\n",
    "    stratify=y_temp,\n",
    "    random_state=42\n",
    ")\n",
    "\n",
    "# Assign splits back to dataframe\n",
    "df[\"split\"] = \"unused\"\n",
    "df.loc[df[\"ID\"].isin(train_ids), \"split\"] = \"train\"\n",
    "df.loc[df[\"ID\"].isin(val_ids), \"split\"] = \"val\"\n",
    "df.loc[df[\"ID\"].isin(test_ids), \"split\"] = \"test\"\n",
    "\n",
    "# Save to file\n",
    "df.to_csv(\"split_dataset.csv\", index=False)\n",
    "\n",
    "print(df[\"split\"].value_counts())\n",
    "print(df.groupby([\"split\", \"V00XRKL\"]).size())\n"
   ]
  }
 ],
 "metadata": {
  "kernelspec": {
   "display_name": "Python 3",
   "language": "python",
   "name": "python3"
  },
  "language_info": {
   "codemirror_mode": {
    "name": "ipython",
    "version": 3
   },
   "file_extension": ".py",
   "mimetype": "text/x-python",
   "name": "python",
   "nbconvert_exporter": "python",
   "pygments_lexer": "ipython3",
   "version": "3.12.11"
  }
 },
 "nbformat": 4,
 "nbformat_minor": 5
}
